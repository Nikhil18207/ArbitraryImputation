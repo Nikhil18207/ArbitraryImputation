{
  "nbformat": 4,
  "nbformat_minor": 0,
  "metadata": {
    "colab": {
      "provenance": [],
      "authorship_tag": "ABX9TyPfqSZe+MyAJ5MRpL3HOZ+9",
      "include_colab_link": true
    },
    "kernelspec": {
      "name": "python3",
      "display_name": "Python 3"
    },
    "language_info": {
      "name": "python"
    }
  },
  "cells": [
    {
      "cell_type": "markdown",
      "metadata": {
        "id": "view-in-github",
        "colab_type": "text"
      },
      "source": [
        "<a href=\"https://colab.research.google.com/github/Nikhil18207/ArbitraryImputation/blob/main/Building_Logistic_Regression_From_Scratch_in_Python.ipynb\" target=\"_parent\"><img src=\"https://colab.research.google.com/assets/colab-badge.svg\" alt=\"Open In Colab\"/></a>"
      ]
    },
    {
      "cell_type": "markdown",
      "source": [
        "## Logistic Regression  \n",
        "\n",
        "![image.png](data:image/png;base64,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)"
      ],
      "metadata": {
        "id": "A8tonRwmYLe1"
      }
    },
    {
      "cell_type": "markdown",
      "source": [
        "Y_hat --> predicted value\n",
        "\n",
        "X --> Input Variable\n",
        "\n",
        "w --> weight\n",
        "\n",
        "b --> bias"
      ],
      "metadata": {
        "id": "rwZ5D9FmYMod"
      }
    },
    {
      "cell_type": "markdown",
      "source": [
        "**Gradient Descent:**\n",
        "\n",
        "Gradient Descent is an optimization algorithm used for minimizing the loss function in various machine learning algorithms. It is used for updating the parameters of the learning model.\n",
        "\n",
        "w = w - α*dw\n",
        "\n",
        "b = b - α*db\n",
        "\n",
        "**Learning Rate:**\n",
        "\n",
        "Learning rate is a tuning parameter in an optimization algorithm that determines the step size at each iteration while moving toward a minimum of a loss function.\n",
        "\n",
        "\n",
        "\n",
        "\n",
        "\n",
        "\n",
        "\n",
        "\n",
        "\n",
        "\n"
      ],
      "metadata": {
        "id": "8Ea4JVfGYI4G"
      }
    },
    {
      "cell_type": "markdown",
      "source": [
        "**Derivatives:**\n",
        "\n",
        "![image.png](data:image/png;base64,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)"
      ],
      "metadata": {
        "id": "_ijPng9IaCMd"
      }
    },
    {
      "cell_type": "markdown",
      "source": [
        "**Work flow of the Logistic Regression Model**\n",
        "\n",
        "Step 1 : Set Learning Rate & Iterations; Initiate random weights and biases\n",
        "\n",
        "Step 2 : Build Logistic Regression Function (Sigmoid Function)\n",
        "\n",
        "Step 3 : Update the parameter using gradient descent\n",
        "\n",
        "Finally we  get the best model (best weights and biases) as it has minimum cost function\n",
        " then we predict the model for the data point"
      ],
      "metadata": {
        "id": "Irme_885e6Jj"
      }
    },
    {
      "cell_type": "markdown",
      "source": [
        "Importing the dependencies"
      ],
      "metadata": {
        "id": "xGU3g5TlbylM"
      }
    },
    {
      "cell_type": "markdown",
      "source": [],
      "metadata": {
        "id": "I80gsyztgE5L"
      }
    },
    {
      "cell_type": "code",
      "source": [
        "import numpy as np"
      ],
      "metadata": {
        "id": "D879WcyRabat"
      },
      "execution_count": 1,
      "outputs": []
    },
    {
      "cell_type": "markdown",
      "source": [
        "**Logistic Regression**"
      ],
      "metadata": {
        "id": "VX1DXD_9b9O8"
      }
    },
    {
      "cell_type": "code",
      "source": [
        "class Logistic_Regression():\n",
        "  # Declaring learning rate and number of iterations (Hyperparameters)\n",
        "  def __init__(self,learning_rate, no_of_iterations):\n",
        "    self.learning_rate =  learning_rate\n",
        "    self.no_of_iterations = no_of_iterations\n",
        "\n",
        "\n",
        "  def fit(self,X,Y):\n",
        "\n",
        "    # Number of Data Points in the dataset (Number of rows) -- > m\n",
        "    # Number of input features in the dataset --> n\n",
        "    self.m,self.n  = X.shape\n",
        "\n",
        "    # Initiating weight and bias value\n",
        "    self.w = np.zeros(self.n)\n",
        "    self.b = 0\n",
        "    self.X = X\n",
        "    self.Y = Y\n",
        "\n",
        "    # Creating a gradient descent algorithm for optimization\n",
        "    for i in range(no_of_iterations):\n",
        "      self.update_weights()\n",
        "\n",
        "\n",
        "  def update_weights(self):\n",
        "\n",
        "    # Y_hat formula (sigmoid function)\n",
        "    Y_hat = 1/(1+np.exp(-(self.X.dot(self.W) + self.b)))\n",
        "\n",
        "    # Derivatives\n",
        "    dw = (1/self.m) * np.dot(self.X.T,(Y_hat - self.Y))\n",
        "    db = (1/self.m) * np.sum(Y_hat- self.Y)\n",
        "\n",
        "    # Updating the weights\n",
        "    self.W = self.W - self.learning_rate * dw\n",
        "    self.b = self.b - self.learning_rate * db\n",
        "  # Sigmoid Equation and decision boundary\n",
        "  def predict(self):\n",
        "    Y_hat = 1/(1+np.exp(-(self.X.dot(self.w) + self.b)))\n",
        "    Y_pred = np.where(Y_pred > 0.5, 1 ,0)\n",
        "    return Y_pred"
      ],
      "metadata": {
        "id": "0YTS3e2jabdU"
      },
      "execution_count": null,
      "outputs": []
    },
    {
      "cell_type": "code",
      "source": [
        "model =  Logistic_Regression(learning_rate=0.01, no_of_iterations=1000)"
      ],
      "metadata": {
        "id": "tytQ-KvHabf8"
      },
      "execution_count": null,
      "outputs": []
    },
    {
      "cell_type": "code",
      "source": [
        "model.m"
      ],
      "metadata": {
        "id": "PhvNYgXMabit"
      },
      "execution_count": null,
      "outputs": []
    },
    {
      "cell_type": "code",
      "source": [
        "print(np.exp(1))"
      ],
      "metadata": {
        "id": "05noB2XNablV",
        "colab": {
          "base_uri": "https://localhost:8080/"
        },
        "outputId": "66cad79e-cb1d-4af1-87e3-33c1bfc72c1c"
      },
      "execution_count": 3,
      "outputs": [
        {
          "output_type": "stream",
          "name": "stdout",
          "text": [
            "2.718281828459045\n"
          ]
        }
      ]
    }
  ]
}